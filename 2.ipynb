{
 "cells": [
  {
   "cell_type": "markdown",
   "metadata": {},
   "source": [
    "# Системы линейных алгебраических уравнений\n",
    "## Математическая запись\n",
    "$$\n",
    "\\begin{bmatrix}\n",
    "    a_{11} & a_{12} & \\ldots & a_{1n}\\\\\n",
    "    \\vdots & \\vdots & \\ldots & \\vdots\\\\\n",
    "    a_{m1} & a_{m2} & \\ldots & a_{mn}\\\\\n",
    "\\end{bmatrix}\n",
    "\\begin{bmatrix}\n",
    "    x_1\\\\\n",
    "    \\vdots\\\\\n",
    "    x_n\\\\\n",
    "\\end{bmatrix}\n",
    "=\n",
    "\\begin{bmatrix}\n",
    "    b_1\\\\\n",
    "    \\vdots\\\\\n",
    "    b_m\\\\\n",
    "\\end{bmatrix}\n",
    "$$\n",
    "\n",
    "Или же иначе\n",
    "$$\n",
    "{\\bf Ax = b}\n",
    "$$\n",
    "\n",
    "- если уравнений больше чем неизвестных -- переопределенная система\n",
    "- иначе недоопределенная\n",
    "\n",
    "### Когда вообще будет существовать решение?\n",
    "- Квадратная: ${\\rm det} A \\neq 0$ или, что эквивалентно полноранговости\n",
    "- Общего вида: Кронекер-Капелли\n",
    "\n",
    "### Размер СЛАУ $n$, $A \\in \\mathbb{R}^{n\\times n}$\n",
    "- $\\leq 10^4$ вся матрица помещается в память\n",
    "- $10^4 - 10^6$ только разреженные матрицы или параллельные вычисления\n",
    "- $\\geq 10^6$ параллельные вычисления уже в разреженных матрицах\n",
    "\n",
    "В следующем семестр вы познакомитесь с численным решением уравнений математрической физики, в реальных задачах такого рода размерность составляет $\\geq 10^5$. (Представьте трехмерную сетку в 100 точек, сколько будет неизвестных? А размер матрицы?)\n",
    "\n",
    "Если мы априорно знаем, что матрица имеет некоторую структуру, то можно сократить память для её хранения, например, ленточные матрицы (тоже очень нужны будут для численных урматов)\n",
    "\n",
    "## Вопросы к решению СЛАУ\n",
    "- Какова сложность решения?\n",
    "- Что происходит из-за плавающей точки?"
   ]
  },
  {
   "cell_type": "markdown",
   "metadata": {},
   "source": [
    "# Решение СЛАУ: алгоритм Гаусса\n",
    "\n",
    "Все известен из курса линейной алгебры, выполняется в 2 шага: обнуляем под диагонялью, обнуляем над.\n",
    "\n",
    "- Что если на $a_{ii} = 0$ для некотрого $i$?\n",
    "\n",
    "Выбираем другой ведущий элемент отличный от 0.\n",
    "\n",
    "Сложность? $O(n^3)$\n",
    "\n",
    "# Решение СЛАУ: LU-разложение\n",
    "\n",
    "На самом деле, решая систему методом Гаусса, мы получаем LU-разложение матрицы системы.\n",
    "\n",
    "$$A = LU$$\n",
    "\n",
    "$L$ -- нижне треугольная матрица, диагоняль единичная, $U$ -- верхне треугольная, $u_{ii} = a_{ii}$. Разложение не единственно, поэтому мы задаем вид диагоняли у матрицы $L$ или $U$.\n",
    "\n",
    "$$x = A^{-1}b = (LU)^{-1}b = U^{-1}L^{-1}b$$\n",
    "\n",
    "За сколько можно решить СЛАУ, если известно LU-разложение? $O(n^2)$\n",
    "\n",
    "# Существование LU-разложения\n",
    "\n",
    "- Мы не должны делить на 0 в алгортме Гаусса\n",
    "- Строго невыродненная: все главные миноры невыродненные (HW)\n",
    "\n",
    "Для эрмитовых положительно определенных матриц модем мы получим разложение Холецкого."
   ]
  },
  {
   "cell_type": "markdown",
   "metadata": {},
   "source": [
    "# Существование LU-разложения\n",
    "$\\varepsilon$ маленькое число\n",
    "$$\n",
    "A = \n",
    "\\begin{bmatrix}\n",
    "\\varepsilon & 1\\\\\n",
    "1 & 1\n",
    "\\end{bmatrix}\n",
    "$$\n",
    "\n",
    "Вот она плавающая точка! Давайте покажем это на доске."
   ]
  },
  {
   "cell_type": "code",
   "execution_count": 1,
   "metadata": {},
   "outputs": [
    {
     "name": "stdout",
     "output_type": "stream",
     "text": [
      "L * U - A:\n",
      " [[ 0.00000000e+00  0.00000000e+00]\n",
      " [-1.11022302e-16 -1.00000000e+00]]\n"
     ]
    },
    {
     "data": {
      "text/plain": [
       "array([[1.e+00, 0.e+00],\n",
       "       [1.e+18, 1.e+00]])"
      ]
     },
     "execution_count": 1,
     "metadata": {},
     "output_type": "execute_result"
    }
   ],
   "source": [
    "import numpy as np\n",
    "eps = 1e-18#1.12e-16\n",
    "a = [[eps, 1],[1.0,  1]]\n",
    "a = np.array(a)\n",
    "a0 = a.copy()\n",
    "n = a.shape[0]\n",
    "L = np.zeros((n, n))\n",
    "U = np.zeros((n, n))\n",
    "for k in range(n): #Eliminate one row   \n",
    "    L[k, k] = 1\n",
    "    for i in range(k+1, n):\n",
    "        L[i, k] = a[i, k] / a[k, k]\n",
    "        for j in range(k+1, n):\n",
    "            a[i, j] = a[i, j] - L[i, k] * a[k, j]\n",
    "    for j in range(k, n):\n",
    "        U[k, j] = a[k, j]\n",
    "\n",
    "print('L * U - A:\\n', np.dot(L, U) - a0)\n",
    "L"
   ]
  },
  {
   "cell_type": "markdown",
   "metadata": {},
   "source": [
    "# Выбор ведущего элемента (пивотинг)\n",
    "\n",
    "Можно стабилизировать переставляя строки или стобцы так, чтобы всегда делить на максимальный элемент. Это эквивалентно следующему:\n",
    "$$A = PLU$$\n",
    "$P$ -- матрица перестановок. Это помогает уйти от проблемы из-за плабавющей точки, но не всегда."
   ]
  },
  {
   "cell_type": "markdown",
   "metadata": {},
   "source": [
    "# Ошика при решении СЛАУ\n",
    "\n",
    "Фундаментальная проблема: что будет есть правая часть и/или матрицы будут немного отличаться от исходных? Как это повлияет на разницу решений?\n",
    "\n",
    "$$(A + \\delta A)x =  b + \\delta b$$\n",
    "$$Ax^* = b$$\n",
    "\\begin{align}\n",
    "    x - x^*\n",
    "    &= (A + \\delta A)^{-1}(b + \\delta b) - A^{-1}b\\\\\n",
    "    &= \\left((A + \\delta A)^{-1} - A^{-1}\\right)b + (A + \\delta A)^{-1}\\delta b\\\\\n",
    "\\end{align}\n",
    "\n",
    "В общем случае для матого возмущения $E$: $\\|A^{-1}E\\| < 1$ следующее обращение предствимо в виде ряда Неймана:\n",
    "$$(A + E)^{-1} = \\sum_{k = 0}^{\\infty}(-1)^kA^{-k}E^kA^{-1}$$\n",
    "и \n",
    "$$\\frac{\\|(A + E)^{-1} - A^{-1}\\|}{\\|A^{-1}\\|} \\leq \\frac{\\|A^{-1}\\|\\|E\\|\\|I\\|}{1 - \\|A^{-1}E\\|}$$\n",
    "\n",
    "Тогда\n",
    "\n",
    "$$ x - x^*\n",
    "    = \\left[\\sum_{k = 0}^{\\infty}(-1)^kA^{-k}\\delta A^k\\right]A^{-1}b + \\left[\\sum_{k = 0}^{\\infty}A^{-k}\\delta A^k\\right]A^{-1}\\delta b\n",
    "$$\n",
    "\n",
    "\\begin{align}\n",
    "    \\frac{\\|x - x^*\\|}{\\|x^*\\|} \n",
    "    &\\leq \\frac{\\|A^{-1}\\|\\|A\\|}{1 - \\|A^{-1}\\delta A\\|}\\left(\\frac{\\|\\delta A\\|}{\\|A\\|} + \\frac{\\|\\delta b\\|}{\\|b\\|}\\right)\\\\\n",
    "    &\\leq \\frac{\\|A^{-1}\\|\\| A\\|}{1 - \\|A^{-1}\\|\\|\\delta A\\|\\frac{\\|A\\|}{\\|A\\|}}\\left(\\frac{\\|\\delta A\\|}{\\|A\\|} + \\frac{\\|\\delta b\\|}{\\|b\\|}\\right)\n",
    "\\end{align}"
   ]
  },
  {
   "cell_type": "markdown",
   "metadata": {},
   "source": [
    "Числом обусловленности называется ${\\rm cond}(A) = \\|A\\|\\|A^{-1}\\|$\n",
    "\n",
    "Если $\\delta A = O$, то $\\frac{\\|x - x^*\\|}{\\|x^*\\|} \\leq {\\rm cond}(A)\\frac{\\|\\delta b\\|}{\\|b\\|}$\n",
    "\n",
    "Во второй норме ${\\rm cond}_2(A) = \\frac{\\sigma_{\\max}}{\\sigma_{\\min}}$, отношение максимального сингулярного числа к минимальному.\n",
    "\n",
    "Если число обусловленности велико, то ошибки плавающей точки будут сильно влиять на относительную погрешность решения."
   ]
  },
  {
   "cell_type": "code",
   "execution_count": 2,
   "metadata": {},
   "outputs": [
    {
     "name": "stdout",
     "output_type": "stream",
     "text": [
      "Error: 8.968648465804307 Condition number: 6.382514096349867e+19\n"
     ]
    },
    {
     "data": {
      "text/plain": [
       "[<matplotlib.lines.Line2D at 0x28904590e50>]"
      ]
     },
     "execution_count": 2,
     "metadata": {},
     "output_type": "execute_result"
    },
    {
     "data": {
      "image/png": "[encoded data removed]",
      "text/plain": [
       "<Figure size 432x288 with 1 Axes>"
      ]
     },
     "metadata": {
      "needs_background": "light"
     },
     "output_type": "display_data"
    }
   ],
   "source": [
    "import numpy as np\n",
    "import matplotlib.pyplot as plt\n",
    "%matplotlib inline\n",
    "\n",
    "n = 100\n",
    "a = [[1.0/(i + j + 1) for i in range(n)] for j in range(n)]\n",
    "a = np.array(a)\n",
    "rhs = np.random.randn(n) #Right-hand side\n",
    "f = np.linalg.solve(a, rhs)\n",
    "\n",
    "#And check if everything is fine\n",
    "er = np.linalg.norm(a.dot(f) - rhs) / np.linalg.norm(rhs)\n",
    "cn = np.linalg.cond(a)\n",
    "print('Error:', er, 'Condition number:', cn)\n",
    "\n",
    "u, s, v = np.linalg.svd(a)\n",
    "rhs = np.random.randn(n)\n",
    "plt.plot(u.T.dot(rhs))"
   ]
  },
  {
   "cell_type": "markdown",
   "metadata": {},
   "source": [
    "# Переопределенные системы, МНК\n",
    "\n",
    "Вы уже научились минимизировать, но как найти решение переопределенной системы?\n",
    "\n",
    "Его не существует в общем случает, но мы можем найти решение, которое дает минимальную ошибку, то есть минимизируя остаток $Ax - b$\n",
    "$$\\|Ax - b\\|_2 \\to \\min_x$$\n",
    "$$\\nabla f = A^*(Ax - b) = 0$$\n",
    "$$A^*Ax = A^*b$$\n",
    "\n",
    "Какое число обусловленности у матрицы Грамма $A^*A$, если известно сингулятное разложение матрицы $A$?\n",
    "\n",
    "Квадрат числа обусловленности матрицы $A$.\n",
    "\n",
    "То есть решение будет очень неустойчивым, что происходит на практике ?\n",
    "\n",
    "Используется QR-разложение (произведение ортогональной на верхнетреугольную, существует всегда).\n",
    "\n",
    "$$A = QR$$\n",
    "$$x = (A^*A)^{-1}Ab = (R^*Q^*QR)^{-1}R^*Q^*b = R^{-1}Q^*b$$\n",
    "\n",
    "Обращать верхнетреугольную очень просто за квадрат, более того такое решение более стабильное."
   ]
  },
  {
   "cell_type": "markdown",
   "metadata": {},
   "source": [
    "# Степенной метод и собственные числа\n",
    "\n",
    "Где еще встречается решение СЛАУ?\n",
    "\n",
    "Собственное разложение.\n",
    "\n",
    "Всегда ли нужно знать полное разложение или может для каких-то задачь достаточно найти только несколько первых собственных чисел по возрастанию или убыванию ?\n",
    "\n",
    "Например для задачи разбиения графа или кластеризации.\n",
    "\n",
    "Задача нахождения собственных чисел:\n",
    "$$Ax = \\lambda x,~~\\|x\\| = 1$$\n",
    "\n",
    "Что если мы построим итерационный процесс следующим образом:\n",
    "\n",
    "$$x_{k + 1} = Ax_{k}$$\n",
    "$$x_{k + 1} = \\frac{x_{k + 1}}{\\|x_{k + 1}\\|}$$\n",
    "\n",
    "Такой процесс сойдется к вектору, соответствующему максимальному собственному числу. Соответственно для собственного числа:\n",
    "\n",
    "$$\\lambda_{k + 1} = (Ax_{k + 1}, x_{k + 1})$$\n",
    "тут скобки обозначают скалярное произведение, это не нужно для итерации по собственному вектору, но необходимо для анализа сходимости такого метода.\n",
    "\n",
    "Известно, что для эрмитовой матрица он сходится со скоростью $q = \\frac{|\\lambda_2|}{|\\lambda_1|}$, и, как следствие сходимость может быть медленной. Решение принадлежит пространству Крылова, очень важно в методах решения СЛАУ.\n",
    "\n",
    "Отношение Релея\n",
    "$$R_A(x) = \\frac{(Ax, x)}{(x, x)}$$\n",
    "\n",
    "А -- эрмитова, соответственно чтобы найти минимальное или максимальное собственное число соответствующей матрицы, необходмо минимизировать или максимизировать отноше"
   ]
  },
  {
   "cell_type": "code",
   "execution_count": null,
   "metadata": {},
   "outputs": [],
   "source": []
  },
  {
   "cell_type": "code",
   "execution_count": null,
   "metadata": {},
   "outputs": [],
   "source": []
  },
  {
   "cell_type": "code",
   "execution_count": null,
   "metadata": {},
   "outputs": [],
   "source": []
  }
 ],
 "metadata": {
  "kernelspec": {
   "display_name": "Python 3",
   "language": "python",
   "name": "python3"
  },
  "language_info": {
   "codemirror_mode": {
    "name": "ipython",
    "version": 3
   },
   "file_extension": ".py",
   "mimetype": "text/x-python",
   "name": "python",
   "nbconvert_exporter": "python",
   "pygments_lexer": "ipython3",
   "version": "3.8.5"
  }
 },
 "nbformat": 4,
 "nbformat_minor": 4
}
