{
 "cells": [
  {
   "cell_type": "markdown",
   "metadata": {},
   "source": [
    "# Итерационный метод Ричардсона\n",
    "\n",
    "Простейшая идея:\n",
    "$$Ax = b$$\n",
    "$$Ax - b = 0 \\mid \\tau$$\n",
    "$$x - 0 = x$$\n",
    "$$x - \\tau(Ax - b) = x$$\n",
    "А тепеть расставим индексы\n",
    "$$x_{k + 1} = x_k - \\tau(Ax_k - b)$$"
   ]
  },
  {
   "cell_type": "markdown",
   "metadata": {},
   "source": [
    "# Метод простой итерации\n",
    "$$x_{k + 1} = Bx_k + F$$\n",
    "\n",
    "- Когда такой метод будет сходиться к истиному решению $x^*$?\n",
    "- Если метод сходится будет ли он сходится к решению $x^*$?\n",
    "\n",
    "Пусть последовательность $\\{x_k\\}_{k = 1}^{\\infty}$ сходится к $x^*$, тогда можно записать следующее\n",
    "\n",
    "$$x^* = Bx^* + F$$\n",
    "\n",
    "Рассмотрим вопрос сходимости:\n",
    "\n",
    "$$x_{k + 1} - x^* = B(x_k - x^*)$$\n",
    "\n",
    "**Можно увидеть достаточное условие сходимоси:** $\\|B\\| < 1$, для какой-то нормы\n",
    "\n",
    "$$\\|x_{k + 1} - x^*\\| = \\|B(x_k - x^*)\\| \\leq \\|B\\|\\|x_k - x^*\\| \\leq \\cdot \\leq \\|B\\|^{k + 1}\\|x_0 - x^*\\|$$\n",
    "\n",
    "Получили геометрическую прогрессию со знаменателем $\\|B\\| < 1$, следовательно сходимость линейная со скоростью $q = \\|B\\| < 1$\n",
    "\n",
    "**Необходимое и достаточное условие:**\n",
    "$$|\\lambda(B)| < 1, \\quad \\lambda \\in \\mathbb{C}$$\n",
    "Для эрмитовой матрицы:\n",
    "$$\\|B\\|_2 = \\max|\\lambda(B)|$$"
   ]
  },
  {
   "cell_type": "markdown",
   "metadata": {},
   "source": [
    "# Метод Ричардсона, сходимость\n",
    "\n",
    "То, что было записано ранее эквивалентно\n",
    "$$x_{k + 1} = (I - \\tau A)x_k + \\tau b$$\n",
    "То есть надо надо исследовать спектр матрицы $I - \\tau A$\n",
    "$$\\lambda(I - \\tau A) = 1 - \\tau\\lambda(A)$$\n",
    "$$|1 - \\tau\\lambda(A)| < 1$$\n",
    "Спектр должен лежать в круне радиуса $1/\\tau$ с центром $1/\\tau$.\n",
    "\n",
    "Рассмотрим эрмитову положительно определенную матрицу $A = A^* > 0$, тогда $\\lambda(A) \\in [\\lambda_{\\min}, \\lambda_{\\max}]$\n",
    "\n",
    "Для сходимости надо $0 < \\tau < \\frac{2}{\\lambda_{\\max}}$\n",
    "\n",
    "## Оптимальный шаг\n",
    "Собственные числа матрицы метода $B$ будут лежать на отрезке $[1 - \\tau \\lambda_{\\min}, 1 - \\tau \\lambda_{\\max}]$, тогда\n",
    "$$q = \\max\\{|1 - \\tau \\lambda_{\\min}|, |1 - \\tau \\lambda_{\\max}|\\}$$\n",
    "\n",
    "- Когда mинимально возможное значение $q$?\n",
    "\n",
    "$$|1 - \\tau \\lambda_{\\min}| = |1 - \\tau \\lambda_{\\max}|$$\n",
    "$$1 - \\tau \\lambda_{\\min} = \\tau \\lambda_{\\max} - 1$$\n",
    "$$\\tau_{opt} = \\frac{1}{\\lambda_{\\min} + \\lambda_{\\max}} \\quad q_{opt} = \\frac{\\lambda_{\\max} - \\lambda_{\\min}}{\\lambda_{\\min} + \\lambda_{\\max}}$$\n",
    "\n",
    "То есть для этого нам нужно знать границы спектра -- степенной метод."
   ]
  },
  {
   "cell_type": "code",
   "execution_count": 1,
   "metadata": {},
   "outputs": [
    {
     "name": "stdout",
     "output_type": "stream",
     "text": [
      "Maximum eigenvalue = 3.682507065662361, minimum eigenvalue = 0.08101405277100529\n",
      "Condition number = 45.45516413147918\n"
     ]
    },
    {
     "data": {
      "image/png": "[encoded data removed]",
      "text/plain": [
       "<Figure size 432x288 with 1 Axes>"
      ]
     },
     "metadata": {
      "needs_background": "light"
     },
     "output_type": "display_data"
    }
   ],
   "source": [
    "import numpy as np\n",
    "import matplotlib.pyplot as plt\n",
    "%matplotlib inline\n",
    "import scipy as sp\n",
    "import scipy.sparse\n",
    "import scipy.sparse.linalg as spla\n",
    "import scipy\n",
    "from scipy.sparse import csc_matrix\n",
    "\n",
    "n = 10\n",
    "ex = np.ones(n);\n",
    "A = sp.sparse.spdiags(np.vstack((-ex,  2*ex, -ex)), [-1, 0, 1], n, n, 'csr'); \n",
    "rhs = np.ones(n)\n",
    "ev1, vec = spla.eigsh(A, k=2, which='LA')\n",
    "ev2, vec = spla.eigsh(A, k=2, which='SA')\n",
    "lam_max = ev1[0]\n",
    "lam_min = ev2[0]\n",
    "\n",
    "tau_opt = 2.0/(lam_max + lam_min)\n",
    "\n",
    "\n",
    "niters = 100\n",
    "x = np.zeros(n)\n",
    "res_richardson = []\n",
    "for i in range(niters):\n",
    "    rr = A.dot(x) - rhs\n",
    "    x = x - tau_opt * rr\n",
    "    res_richardson.append(np.linalg.norm(rr))\n",
    "#Convergence of an ordinary Richardson (with optimal parameter)\n",
    "#print(res_richardson)\n",
    "plt.plot(res_richardson)\n",
    "plt.yscale('log')\n",
    "plt.xlabel(\"Number of iterations\", fontsize=20)\n",
    "plt.ylabel(\"Residual norm\", fontsize=20)\n",
    "plt.xticks(fontsize=20)\n",
    "plt.yticks(fontsize=20)\n",
    "print(\"Maximum eigenvalue = {}, minimum eigenvalue = {}\".format(lam_max, lam_min))\n",
    "print(\"Condition number = {}\".format(lam_max.real / lam_min.real))"
   ]
  },
  {
   "cell_type": "markdown",
   "metadata": {},
   "source": [
    "Из-за числа обусловленности сходится очень медленно.\n",
    "\n",
    "- Что бы улучшить обусловленность матрицы используется предобуславлеватели\n"
   ]
  },
  {
   "cell_type": "markdown",
   "metadata": {},
   "source": [
    "случай неэрмитовой матрицы:\n",
    "\n",
    "- Может сходиться\n",
    "- Может расходиться\n",
    "- Может почти быть на месте"
   ]
  },
  {
   "cell_type": "code",
   "execution_count": 2,
   "metadata": {},
   "outputs": [
    {
     "name": "stdout",
     "output_type": "stream",
     "text": [
      "Spectrum of the matrix = [0.5+1.32287566j 0.5-1.32287566j]\n"
     ]
    }
   ],
   "source": [
    "# B = np.random.randn(2, 2)\n",
    "B = np.array([[1, 2], [-1, 0]])\n",
    "# B = np.array([[0, 1], [-1, 0]])\n",
    "x_true = np.zeros(2)\n",
    "f = B.dot(x_true)\n",
    "eigvals = np.linalg.eigvals(B)\n",
    "print(\"Spectrum of the matrix = {}\".format(eigvals))\n",
    "\n",
    "# Run Richardson iteration\n",
    "x = np.array([0, -1])\n",
    "tau = 1e-2\n",
    "conv_x = [x]\n",
    "r = B.dot(x) - f\n",
    "conv_r = [np.linalg.norm(r)]\n",
    "num_iter = 1000\n",
    "for i in range(num_iter):\n",
    "    x = x - tau * r\n",
    "    conv_x.append(x)\n",
    "    r = B.dot(x) - f\n",
    "    conv_r.append(np.linalg.norm(r))"
   ]
  },
  {
   "cell_type": "code",
   "execution_count": 3,
   "metadata": {},
   "outputs": [
    {
     "data": {
      "text/plain": [
       "Text(0, 0.5, 'Residual norm')"
      ]
     },
     "execution_count": 3,
     "metadata": {},
     "output_type": "execute_result"
    },
    {
     "data": {
      "image/png": "[encoded data removed]",
      "text/plain": [
       "<Figure size 432x288 with 1 Axes>"
      ]
     },
     "metadata": {
      "needs_background": "light"
     },
     "output_type": "display_data"
    }
   ],
   "source": [
    "plt.semilogy(conv_r)\n",
    "plt.xlabel(\"Number of iteration\", fontsize=20)\n",
    "plt.ylabel(\"Residual norm\", fontsize=20)"
   ]
  },
  {
   "cell_type": "markdown",
   "metadata": {},
   "source": [
    "# Метод спуска\n",
    "\n",
    "Теперь рассмотрим шаг, меняющийся во от итерации к итерации $\\tau_k$\n",
    "\n",
    "$$x_{k + 1} = x_k - \\tau_k(Ax_k - b)$$\n",
    "\n",
    "Этот парметр можно находить на каждом шагу, минимизируя норму невязки. (Вспомните об этом на методах оптимизации в следующем семестре)\n",
    "\n",
    "$$e_{k + 1} = x_{k + 1} - x^*$$\n",
    "$$e_{k + 1} = (I - \\tau_kA)r_k = \\ldots = p(A)e_0$$\n",
    "$$p(A) = (I - \\tau_kA)(I - \\tau_{k - 1}A) \\ldots (I - \\tau_0A)$$\n",
    "Это матричный многочлен. Тогда\n",
    "$$\\|e_{k + 1}\\| \\leq \\|p(A)\\|\\|e_0\\|$$\n",
    "надо минимизировать $\\|p(A)\\|_2$, $A = U\\Lambda U^*$\n",
    "$$\\|p(A)\\|_2 = \\|Up(\\Lambda)U^*\\| = \\|p(\\Lambda)\\| = \\max_i|p(\\lambda_i)| \\leq \\max_{\\lambda}|p(\\lambda)|$$\n",
    "\n",
    "Следовательно мы хотим найти такой полином, что $p(0) = 1$ и наименьшего отклонения от 0 на $[\\lambda_{\\min}, \\lambda_{\\max}]$, мы можем заменой переменных перейти к интервалу $[-1, 1]$\n",
    "\n",
    "Это получается используя полиномы Чебышева (вывод разбираться не будет):\n",
    "$$\\cos(n \\arccos x)$$\n",
    "\n",
    "Следовательно $1/\\tau_k$ -- корень этого многочлена\n",
    "\n",
    "$$\\tau_i = \\frac{2}{\\lambda_{\\max} + \\lambda_{\\min} - (\\lambda_{\\max} - \\lambda_{\\min})x_i}$$\n",
    "$$x_k = \\cos\\frac{\\pi(2i + 1)}{2n}, \\quad i = 0, \\ldots, n - 1$$\n",
    "Тогда сходимость будет линейной со скоростью\n",
    "$$q = \\frac{\\sqrt{cond(A)} - 1}{\\sqrt{cond(A)} + 1}$$\n",
    "что гораздо лучше чем с постоянным шагом."
   ]
  },
  {
   "cell_type": "code",
   "execution_count": 4,
   "metadata": {},
   "outputs": [
    {
     "data": {
      "text/plain": [
       "Text(0.5, 1.0, 'Interval $x\\\\in[-1.1, 1.1]$')"
      ]
     },
     "execution_count": 4,
     "metadata": {},
     "output_type": "execute_result"
    },
    {
     "data": {
      "image/png": "[encoded data removed]",
      "text/plain": [
       "<Figure size 432x288 with 2 Axes>"
      ]
     },
     "metadata": {
      "needs_background": "light"
     },
     "output_type": "display_data"
    }
   ],
   "source": [
    "import numpy as np\n",
    "import matplotlib.pyplot as plt\n",
    "%matplotlib inline\n",
    "x1 = np.linspace(-1, 1, 128)\n",
    "x2 = np.linspace(-1.1, 1.1, 128)\n",
    "p = np.polynomial.Chebyshev((0, 0, 0, 0, 0, 0, 0, 0, 0, 1), (-1, 1)) #These are Chebyshev series, a proto of \"chebfun system\" in MATLAB\n",
    "fig, (ax1, ax2) = plt.subplots(1, 2)\n",
    "ax1.plot(x1, p(x1))\n",
    "ax1.set_title('Interval $x\\in[-1, 1]$')\n",
    "ax2.plot(x2, p(x2))\n",
    "ax2.set_title('Interval $x\\in[-1.1, 1.1]$')"
   ]
  },
  {
   "cell_type": "markdown",
   "metadata": {},
   "source": [
    "- Выше мы предполагали, что спектр действителен и заключен а одном интервале, если же в двух, то многочлены Золотарева решат проблему\n",
    "-Для большего числа интервалов наилучший многочлен может быть выражен используя гиперболические функции"
   ]
  },
  {
   "cell_type": "markdown",
   "metadata": {},
   "source": [
    "# Связь с обыкновенными дифференциальными уравнениями\n",
    "\n",
    "$$\\frac{dy}{dt} + Ay = f, \\quad y(0) = y_0$$\n",
    "\n",
    "Тогда численное решение будет записано в виде схемы:\n",
    "$$\\frac{y_{k + 1} - y_k}{\\tau} = -Ay_k + f$$\n",
    "$$y_{k + 1} = y_k - \\tau(Ay_k - f)$$"
   ]
  },
  {
   "cell_type": "markdown",
   "metadata": {},
   "source": [
    "# Метод Якоби\n",
    "А что если разбить систему по-другому?\n",
    "\n",
    "$$Ax = b \\Rightarrow Dx + (A - D)x = b$$\n",
    "где $D$ -- диагоняль матрицы $A$, тогда\n",
    "$$Dx = b + (D - A)x$$\n",
    "$$Dx_{k + 1} = b + (D - A)x_k$$\n",
    "Или\n",
    "$$x_{k + 1} = x_k + D^{-1}(b - Ax_k)$$\n",
    "\n",
    "Такой метод сходится для матриц с диагоняльным преобладанием, т.е. элемент на диагонале больше по модулю суммы всех остальных\n",
    "$$B = I - D^{-1}A$$\n",
    "Тут будут нули на диагонале\n",
    "$$\\|B\\|_{\\infty} = \\max_i\\sum\\limits_{i \\neq j}\\frac{|a_{ij}|}{|a_{ii}|} = \\max_i\\frac{1}{|a_{ii}|}\\sum\\limits_{i \\neq j}|a_{ij}| < 1$$\n",
    "\n",
    "Необходимое и достаточное условие $\\max|\\lambda(B)| < 1$\n",
    "$$\\det(B - \\lambda I) = \\det(I - D^{-1}A - \\lambda I) = -\\det D^{-1}\\det(A - B - \\lambda D) = 0$$"
   ]
  },
  {
   "cell_type": "markdown",
   "metadata": {},
   "source": [
    "# Метод Зейделя\n",
    "$$(L + D + U)x = b$$\n",
    "$$(L + D )x_{k + 1} = b - Ux_k$$\n",
    "Нужно на каждом шагу решать систему с треугольной матрицей\n",
    "$$x_{k + 1} = x_k + (L + D)^{-1}(b - Ax_k)$$"
   ]
  },
  {
   "cell_type": "markdown",
   "metadata": {},
   "source": [
    "# SOR\n",
    "Модификация метода Зейделя с параметром релаксации $\\omega \\in (0, 2)$\n",
    "$$(L + 1/\\omega D)x_{k + 1} = b - (U + \\frac{\\omega - 1}{\\omega}D)x_k$$\n",
    "$$x_{k + 1} = x_k + (L + 1/\\omega D)^{-1}r_k$$\n",
    "\n",
    "Данный метод сходится для эрмитовых положительно определенный, но подбор оптимального параметра -- непрстая задача."
   ]
  },
  {
   "cell_type": "code",
   "execution_count": null,
   "metadata": {},
   "outputs": [],
   "source": []
  },
  {
   "cell_type": "code",
   "execution_count": null,
   "metadata": {},
   "outputs": [],
   "source": []
  }
 ],
 "metadata": {
  "kernelspec": {
   "display_name": "Python 3",
   "language": "python",
   "name": "python3"
  },
  "language_info": {
   "codemirror_mode": {
    "name": "ipython",
    "version": 3
   },
   "file_extension": ".py",
   "mimetype": "text/x-python",
   "name": "python",
   "nbconvert_exporter": "python",
   "pygments_lexer": "ipython3",
   "version": "3.8.5"
  }
 },
 "nbformat": 4,
 "nbformat_minor": 4
}
